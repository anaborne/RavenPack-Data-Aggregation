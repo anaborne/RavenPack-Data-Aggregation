{
  "nbformat": 4,
  "nbformat_minor": 0,
  "metadata": {
    "colab": {
      "provenance": [],
      "authorship_tag": "ABX9TyMr2g4hLRC1ckU/7Pg8ggOt",
      "include_colab_link": true
    },
    "kernelspec": {
      "name": "python3",
      "display_name": "Python 3"
    },
    "language_info": {
      "name": "python"
    }
  },
  "cells": [
    {
      "cell_type": "markdown",
      "metadata": {
        "id": "view-in-github",
        "colab_type": "text"
      },
      "source": [
        "<a href=\"https://colab.research.google.com/github/anaborne/RavenPack-Data-Aggregation/blob/main/RavenPack.ipynb\" target=\"_parent\"><img src=\"https://colab.research.google.com/assets/colab-badge.svg\" alt=\"Open In Colab\"/></a>"
      ]
    },
    {
      "cell_type": "code",
      "source": [
        "import pandas as pd\n",
        "import re\n",
        "\n",
        "# File paths\n",
        "firms_file   = '20250707_unique_firms_trase.xlsx'\n",
        "mapping_file = 'entity_rp_id_mappings.xlsx'\n",
        "output_file  = 'rp_id_matched.xlsx'\n",
        "\n",
        "# Read sheets\n",
        "df_firms = pd.read_excel(firms_file, sheet_name=0)\n",
        "df_map   = pd.read_excel(mapping_file, sheet_name=0)\n",
        "\n",
        "# Normalization function\n",
        "def normalize(text):\n",
        "    if pd.isnull(text):\n",
        "        return ''\n",
        "    s = str(text).lower().strip()\n",
        "    s = re.sub(r'[^\\w\\s]', '', s)     # remove punctuation\n",
        "    s = re.sub(r'\\s+', ' ', s)        # collapse whitespace\n",
        "    return s\n",
        "\n",
        "# Apply normalization\n",
        "df_firms['exporter_norm'] = df_firms['exportergroup'].apply(normalize)\n",
        "df_map  ['value_norm']    = df_map  ['data_value'].apply(normalize)\n",
        "\n",
        "# Build a lookup of normalized mapping values to rp_entity_id\n",
        "mapping_lookup = dict(zip(df_map['value_norm'], df_map['rp_entity_id']))\n",
        "\n",
        "# Matching function: exact first, then substring\n",
        "def match_rp_id(exporter_norm):\n",
        "    # exact match\n",
        "    if exporter_norm in mapping_lookup:\n",
        "        return mapping_lookup[exporter_norm]\n",
        "    # substring match: exporter_norm inside a longer mapping value\n",
        "    for value_norm, rp_id in mapping_lookup.items():\n",
        "        if exporter_norm and exporter_norm in value_norm:\n",
        "            return rp_id\n",
        "    return None\n",
        "\n",
        "# Apply matching\n",
        "df_firms['rp_entity_id_matched'] = df_firms['exporter_norm'].apply(match_rp_id)\n",
        "\n",
        "# Prepare output\n",
        "df_output = df_firms[['rp_entity_id_matched', 'exportergroup']].copy()\n",
        "df_output.columns = ['rp_entity_id', 'company_name']\n",
        "\n",
        "# Write to Excel\n",
        "with pd.ExcelWriter(output_file, engine='openpyxl') as writer:\n",
        "    df_output.to_excel(writer, sheet_name='Matched', index=False)"
      ],
      "metadata": {
        "id": "A-VcQRhJFp3m"
      },
      "execution_count": null,
      "outputs": []
    },
    {
      "cell_type": "code",
      "source": [
        "!pip install dask[complete] openpyxl\n",
        "\n",
        "import dask.dataframe as dd\n",
        "import pandas as pd\n",
        "\n",
        "# read matched file normally\n",
        "match_df = pd.read_excel('rp_id_matched.xlsx', usecols=['rp_entity_id','company_name'])\n",
        "match_ddf = dd.from_pandas(match_df, npartitions=1)\n",
        "\n",
        "# have Dask read and parse the Excel (streamed under the hood) (the file is too large to read with pandas alone)\n",
        "sent_ddf = dd.read_csv('RP_Sentiment_Data.csv', blocksize=25e6, dtype={'event_sentiment_score': 'object'})\n",
        "\n",
        "# merge and rename\n",
        "out = sent_ddf.merge(match_ddf, on='rp_entity_id', how='left')\n",
        "out = out.rename(columns={'company_name':'exportergroup'})\n",
        "\n",
        "# write to CSV\n",
        "out.to_csv('final_rp_sentiment_data.csv', index=False)"
      ],
      "metadata": {
        "colab": {
          "base_uri": "https://localhost:8080/"
        },
        "id": "u2w-Lz7cB8eY",
        "outputId": "a1719318-7987-4223-df56-8eefc37c025f"
      },
      "execution_count": null,
      "outputs": [
        {
          "output_type": "stream",
          "name": "stdout",
          "text": [
            "Requirement already satisfied: openpyxl in /usr/local/lib/python3.11/dist-packages (3.1.5)\n",
            "Requirement already satisfied: dask[complete] in /usr/local/lib/python3.11/dist-packages (2024.12.1)\n",
            "Requirement already satisfied: click>=8.1 in /usr/local/lib/python3.11/dist-packages (from dask[complete]) (8.2.1)\n",
            "Requirement already satisfied: cloudpickle>=3.0.0 in /usr/local/lib/python3.11/dist-packages (from dask[complete]) (3.1.1)\n",
            "Requirement already satisfied: fsspec>=2021.09.0 in /usr/local/lib/python3.11/dist-packages (from dask[complete]) (2025.3.2)\n",
            "Requirement already satisfied: packaging>=20.0 in /usr/local/lib/python3.11/dist-packages (from dask[complete]) (24.2)\n",
            "Requirement already satisfied: partd>=1.4.0 in /usr/local/lib/python3.11/dist-packages (from dask[complete]) (1.4.2)\n",
            "Requirement already satisfied: pyyaml>=5.3.1 in /usr/local/lib/python3.11/dist-packages (from dask[complete]) (6.0.2)\n",
            "Requirement already satisfied: toolz>=0.10.0 in /usr/local/lib/python3.11/dist-packages (from dask[complete]) (0.12.1)\n",
            "Requirement already satisfied: importlib_metadata>=4.13.0 in /usr/local/lib/python3.11/dist-packages (from dask[complete]) (8.7.0)\n",
            "Requirement already satisfied: pyarrow>=14.0.1 in /usr/local/lib/python3.11/dist-packages (from dask[complete]) (18.1.0)\n",
            "Requirement already satisfied: lz4>=4.3.2 in /usr/local/lib/python3.11/dist-packages (from dask[complete]) (4.4.4)\n",
            "Requirement already satisfied: et-xmlfile in /usr/local/lib/python3.11/dist-packages (from openpyxl) (2.0.0)\n",
            "Requirement already satisfied: zipp>=3.20 in /usr/local/lib/python3.11/dist-packages (from importlib_metadata>=4.13.0->dask[complete]) (3.23.0)\n",
            "Requirement already satisfied: locket in /usr/local/lib/python3.11/dist-packages (from partd>=1.4.0->dask[complete]) (1.0.0)\n",
            "Requirement already satisfied: numpy>=1.24 in /usr/local/lib/python3.11/dist-packages (from dask[complete]) (2.0.2)\n",
            "Requirement already satisfied: pandas>=2.0 in /usr/local/lib/python3.11/dist-packages (from dask[complete]) (2.2.2)\n",
            "Requirement already satisfied: dask-expr<1.2,>=1.1 in /usr/local/lib/python3.11/dist-packages (from dask[complete]) (1.1.21)\n",
            "Requirement already satisfied: distributed==2024.12.1 in /usr/local/lib/python3.11/dist-packages (from dask[complete]) (2024.12.1)\n",
            "Requirement already satisfied: bokeh>=3.1.0 in /usr/local/lib/python3.11/dist-packages (from dask[complete]) (3.7.3)\n",
            "Requirement already satisfied: jinja2>=2.10.3 in /usr/local/lib/python3.11/dist-packages (from dask[complete]) (3.1.6)\n",
            "Requirement already satisfied: msgpack>=1.0.2 in /usr/local/lib/python3.11/dist-packages (from distributed==2024.12.1->dask[complete]) (1.1.1)\n",
            "Requirement already satisfied: psutil>=5.8.0 in /usr/local/lib/python3.11/dist-packages (from distributed==2024.12.1->dask[complete]) (5.9.5)\n",
            "Requirement already satisfied: sortedcontainers>=2.0.5 in /usr/local/lib/python3.11/dist-packages (from distributed==2024.12.1->dask[complete]) (2.4.0)\n",
            "Requirement already satisfied: tblib>=1.6.0 in /usr/local/lib/python3.11/dist-packages (from distributed==2024.12.1->dask[complete]) (3.1.0)\n",
            "Requirement already satisfied: tornado>=6.2.0 in /usr/local/lib/python3.11/dist-packages (from distributed==2024.12.1->dask[complete]) (6.4.2)\n",
            "Requirement already satisfied: urllib3>=1.26.5 in /usr/local/lib/python3.11/dist-packages (from distributed==2024.12.1->dask[complete]) (2.4.0)\n",
            "Requirement already satisfied: zict>=3.0.0 in /usr/local/lib/python3.11/dist-packages (from distributed==2024.12.1->dask[complete]) (3.0.0)\n",
            "Requirement already satisfied: contourpy>=1.2 in /usr/local/lib/python3.11/dist-packages (from bokeh>=3.1.0->dask[complete]) (1.3.2)\n",
            "Requirement already satisfied: narwhals>=1.13 in /usr/local/lib/python3.11/dist-packages (from bokeh>=3.1.0->dask[complete]) (1.46.0)\n",
            "Requirement already satisfied: pillow>=7.1.0 in /usr/local/lib/python3.11/dist-packages (from bokeh>=3.1.0->dask[complete]) (11.2.1)\n",
            "Requirement already satisfied: xyzservices>=2021.09.1 in /usr/local/lib/python3.11/dist-packages (from bokeh>=3.1.0->dask[complete]) (2025.4.0)\n",
            "Requirement already satisfied: MarkupSafe>=2.0 in /usr/local/lib/python3.11/dist-packages (from jinja2>=2.10.3->dask[complete]) (3.0.2)\n",
            "Requirement already satisfied: python-dateutil>=2.8.2 in /usr/local/lib/python3.11/dist-packages (from pandas>=2.0->dask[complete]) (2.9.0.post0)\n",
            "Requirement already satisfied: pytz>=2020.1 in /usr/local/lib/python3.11/dist-packages (from pandas>=2.0->dask[complete]) (2025.2)\n",
            "Requirement already satisfied: tzdata>=2022.7 in /usr/local/lib/python3.11/dist-packages (from pandas>=2.0->dask[complete]) (2025.2)\n",
            "Requirement already satisfied: six>=1.5 in /usr/local/lib/python3.11/dist-packages (from python-dateutil>=2.8.2->pandas>=2.0->dask[complete]) (1.17.0)\n"
          ]
        },
        {
          "output_type": "execute_result",
          "data": {
            "text/plain": [
              "['/content/final_rp_sentiment_data-0.csv']"
            ]
          },
          "metadata": {},
          "execution_count": 8
        }
      ]
    },
    {
      "cell_type": "code",
      "source": [
        "import dask.dataframe as dd\n",
        "import pandas as pd\n",
        "\n",
        "# 1. Read in the CSV\n",
        "sent_ddf = dd.read_csv(\n",
        "    'RP_Sentiment_Data.csv',\n",
        "    blocksize=25e6,\n",
        "    dtype={'event_sentiment_score': 'object',\n",
        "           'composite_sentiment_score': 'object', # Corrected column name\n",
        "           'rpa_date_utc': 'object'},\n",
        "    assume_missing=True\n",
        ")\n",
        "\n",
        "# 2. Parse date & extract year\n",
        "sent_ddf['rpa_date_utc'] = dd.to_datetime(sent_ddf['rpa_date_utc'], errors='coerce')\n",
        "sent_ddf['year'] = sent_ddf['rpa_date_utc'].dt.year\n",
        "\n",
        "# 3. Convert both scores to floats\n",
        "sent_ddf['event_score'] = dd.to_numeric(sent_ddf['event_sentiment_score'], errors='coerce')\n",
        "sent_ddf['comp_score']  = dd.to_numeric(sent_ddf['composite_sentiment_score'], errors='coerce') # Corrected column name\n",
        "\n",
        "# 4. Drop rows missing _both_ scores\n",
        "sent_ddf = sent_ddf[\n",
        "    ~(sent_ddf['event_score'].isna() & sent_ddf['comp_score'].isna())\n",
        "]\n",
        "\n",
        "# 5. Build indicator cols for each metric\n",
        "sent_ddf['neg_event'] = (sent_ddf['event_score'] < 0).fillna(False).astype(int)\n",
        "sent_ddf['pos_event'] = (sent_ddf['event_score'] > 0).fillna(False).astype(int)\n",
        "sent_ddf['neu_event'] = (sent_ddf['event_score'] == 0).fillna(False).astype(int)\n",
        "\n",
        "sent_ddf['neg_comp'] = (sent_ddf['comp_score']  < 0).fillna(False).astype(int)\n",
        "sent_ddf['pos_comp'] = (sent_ddf['comp_score']  == 0).fillna(False).astype(int) # Corrected comparison to 0 for neutral\n",
        "sent_ddf['neu_comp'] = (sent_ddf['comp_score']  > 0).fillna(False).astype(int) # Corrected comparison to > 0 for positive\n",
        "\n",
        "\n",
        "# 6. Group & sum all six indicators\n",
        "agg = (\n",
        "    sent_ddf\n",
        "    .groupby(['year', 'rp_entity_id', 'entity_name'])\n",
        "    .agg({\n",
        "        'neg_event': 'sum',\n",
        "        'pos_event': 'sum',\n",
        "        'neu_event': 'sum',\n",
        "        'neg_comp':  'sum',\n",
        "        'pos_comp':  'sum',\n",
        "        'neu_comp':  'sum'\n",
        "    })\n",
        "    .reset_index()\n",
        ")\n",
        "\n",
        "# 7. Rename to match template\n",
        "agg = agg.rename(columns={\n",
        "    'neg_event': 'N_event_sentiment_negative',\n",
        "    'pos_event': 'N_event_sentiment_positive',\n",
        "    'neu_event': 'N_event_sentiment_neutral',\n",
        "    'neg_comp':  'N_composite_sentiment_negative',\n",
        "    'pos_comp':  'N_composite_sentiment_positive',\n",
        "    'neu_comp':  'N_composite_sentiment_neutral'\n",
        "})\n",
        "\n",
        "\n",
        "# 8. Compute & sort by firm then year\n",
        "result_df = agg.compute()\n",
        "result_df = result_df.sort_values(\n",
        "    by=['entity_name','year'],\n",
        "    ascending=[True, True]\n",
        ").reset_index(drop=True)\n",
        "\n",
        "# 9. Write out\n",
        "result_df.to_excel('sentiment_counts_by_year.xlsx', index=False)"
      ],
      "metadata": {
        "colab": {
          "base_uri": "https://localhost:8080/"
        },
        "id": "SJrDDLABWa8l",
        "outputId": "3d7fadf0-81b3-489b-999e-666f5444f608"
      },
      "execution_count": null,
      "outputs": [
        {
          "output_type": "stream",
          "name": "stdout",
          "text": [
            "Index(['rpa_date_utc', 'rp_entity_id', 'entity_name', ' ',\n",
            "       'event_sentiment_score', 'composite_sentiment_score'],\n",
            "      dtype='object')\n"
          ]
        },
        {
          "output_type": "stream",
          "name": "stderr",
          "text": [
            "/usr/local/lib/python3.11/dist-packages/dask_expr/_expr.py:1471: UserWarning: Could not infer format, so each element will be parsed individually, falling back to `dateutil`. To ensure parsing is consistent and as-expected, please specify a format.\n",
            "  return get_meta_library(args[0]).to_datetime(*args, **kwargs)\n"
          ]
        }
      ]
    },
    {
      "cell_type": "code",
      "source": [
        "import dask.dataframe as dd\n",
        "import pandas as pd\n",
        "\n",
        "# 1. Read the existing counts file\n",
        "counts_df = pd.read_excel(\n",
        "    'sentiment_counts_by_year.xlsx',\n",
        "    engine='openpyxl'\n",
        ")\n",
        "\n",
        "# 2. Stream the large sentiment CSV with Dask\n",
        "sent_ddf = dd.read_csv(\n",
        "    'RP_Sentiment_Data.csv',\n",
        "    blocksize=25e6,\n",
        "    dtype={\n",
        "        'event_sentiment_score': 'object',\n",
        "        'composite_sentiment_score': 'object',\n",
        "        'rpa_date_utc': 'object'\n",
        "    },\n",
        "    assume_missing=True\n",
        ")\n",
        "\n",
        "# 3. Parse dates and extract year\n",
        "sent_ddf['rpa_date_utc'] = dd.to_datetime(sent_ddf['rpa_date_utc'], errors='coerce')\n",
        "sent_ddf['year'] = sent_ddf['rpa_date_utc'].dt.year\n",
        "\n",
        "# 4. Convert both sentiment columns to numeric\n",
        "sent_ddf['event_score'] = dd.to_numeric(sent_ddf['event_sentiment_score'], errors='coerce')\n",
        "sent_ddf['comp_score']  = dd.to_numeric(sent_ddf['composite_sentiment_score'], errors='coerce')\n",
        "\n",
        "# 5. Compute yearly means for each entity\n",
        "mean_ddf = (\n",
        "    sent_ddf\n",
        "    .groupby(['year', 'rp_entity_id', 'entity_name'])\n",
        "    [['event_score', 'comp_score']]\n",
        "    .mean()\n",
        "    .reset_index()\n",
        ")\n",
        "\n",
        "# 6. Materialize the Dask result into pandas\n",
        "mean_df = mean_ddf.compute()\n",
        "\n",
        "# 7. Rename to the new average‐columns\n",
        "mean_df = mean_df.rename(columns={\n",
        "    'event_score': 'avg_event_sentiment',\n",
        "    'comp_score':  'avg_composite_sentiment'\n",
        "})\n",
        "\n",
        "# 8. Merge the averages into the counts table\n",
        "merged_df = counts_df.merge(\n",
        "    mean_df,\n",
        "    on=['year', 'rp_entity_id', 'entity_name'],\n",
        "    how='left'\n",
        ")\n",
        "\n",
        "# 9. Save back to Excel (overwrites with the two new columns at the end)\n",
        "merged_df.to_excel(\n",
        "    'sentiment_counts_by_year.xlsx',\n",
        "    index=False\n",
        ")"
      ],
      "metadata": {
        "colab": {
          "base_uri": "https://localhost:8080/"
        },
        "id": "7iuodpAjd8du",
        "outputId": "8e33f196-aa14-4f4e-de56-24d03a6852cb"
      },
      "execution_count": null,
      "outputs": [
        {
          "output_type": "stream",
          "name": "stderr",
          "text": [
            "/usr/local/lib/python3.11/dist-packages/dask_expr/_expr.py:1471: UserWarning: Could not infer format, so each element will be parsed individually, falling back to `dateutil`. To ensure parsing is consistent and as-expected, please specify a format.\n",
            "  return get_meta_library(args[0]).to_datetime(*args, **kwargs)\n"
          ]
        }
      ]
    },
    {
      "cell_type": "code",
      "source": [
        "import pandas as pd\n",
        "\n",
        "# 1. Read in enriched sentiment‐counts file\n",
        "counts_df = pd.read_excel(\n",
        "    'sentiment_counts_by_year.xlsx',\n",
        "    engine='openpyxl'\n",
        ")\n",
        "\n",
        "# 2. Read in the rp_id to exportergroup mapping\n",
        "match_df = pd.read_excel(\n",
        "    'rp_id_matched.xlsx',\n",
        "    usecols=['rp_entity_id', 'company_name'],\n",
        "    engine='openpyxl'\n",
        ")\n",
        "\n",
        "# 3. Merge on rp_entity_id to pull in company_name\n",
        "merged = counts_df.merge(\n",
        "    match_df,\n",
        "    on='rp_entity_id',\n",
        "    how='left'\n",
        ")\n",
        "\n",
        "# 4. Rename the pulled-in column to exportergroups\n",
        "merged.rename(columns={'company_name': 'exportergroups'}, inplace=True)\n",
        "\n",
        "# 5. Save out a new file\n",
        "merged.to_excel(\n",
        "    'final_RP_sentiment_data.xlsx',\n",
        "    index=False\n",
        ")"
      ],
      "metadata": {
        "id": "F1asZy0nfEa1"
      },
      "execution_count": null,
      "outputs": []
    }
  ]
}